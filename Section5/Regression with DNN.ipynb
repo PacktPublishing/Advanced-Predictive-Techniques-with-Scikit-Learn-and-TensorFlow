{
 "cells": [
  {
   "cell_type": "markdown",
   "metadata": {},
   "source": [
    "# Regression with Deep Neural Networks"
   ]
  },
  {
   "cell_type": "code",
   "execution_count": 1,
   "metadata": {
    "collapsed": true
   },
   "outputs": [],
   "source": [
    "import tensorflow as tf\n",
    "import pandas as pd\n",
    "import numpy as np\n",
    "import matplotlib.pyplot as plt\n",
    "\n",
    "from sklearn.model_selection import train_test_split\n",
    "from tensorflow.contrib.layers import fully_connected\n",
    "\n",
    "%matplotlib inline"
   ]
  },
  {
   "cell_type": "markdown",
   "metadata": {},
   "source": [
    "## Elements of our DNN model:\n",
    "\n",
    "#### Architecture: \n",
    "- 23 elements in input layer\n",
    "- 1 element in output layer\n",
    "- 3 hidden layers: 256, 128, 64\n",
    "\n",
    "#### Activation function: ReLU"
   ]
  },
  {
   "cell_type": "markdown",
   "metadata": {},
   "source": [
    "#### Optimization algorithm: Adam Optimizer\n",
    "\n",
    "#### Loss function: Mean squared error\n",
    "\n",
    "#### Weights initialization strategy: Xavier initializer\n",
    "presented in the paper: http://proceedings.mlr.press/v9/glorot10a/glorot10a.pdf\n",
    "\n",
    "#### Regularization strategy: none\n",
    "\n",
    "#### Training: 40 epochs, batch size:50"
   ]
  },
  {
   "cell_type": "markdown",
   "metadata": {},
   "source": [
    "# Building the DNN"
   ]
  },
  {
   "cell_type": "markdown",
   "metadata": {},
   "source": [
    "### Reading the data"
   ]
  },
  {
   "cell_type": "code",
   "execution_count": 2,
   "metadata": {
    "collapsed": true
   },
   "outputs": [],
   "source": [
    "data_path= '../data/diamonds.csv'\n",
    "diamonds = pd.read_csv(data_path)\n",
    "diamonds = pd.concat([diamonds, pd.get_dummies(diamonds['cut'], prefix='cut', drop_first=True)],axis=1)\n",
    "diamonds = pd.concat([diamonds, pd.get_dummies(diamonds['color'], prefix='color', drop_first=True)],axis=1)\n",
    "diamonds = pd.concat([diamonds, pd.get_dummies(diamonds['clarity'], prefix='clarity', drop_first=True)],axis=1)\n",
    "diamonds.drop(['cut','color','clarity'], axis=1, inplace=True)"
   ]
  },
  {
   "cell_type": "markdown",
   "metadata": {},
   "source": [
    "### Objects for modelling"
   ]
  },
  {
   "cell_type": "code",
   "execution_count": 3,
   "metadata": {
    "collapsed": true
   },
   "outputs": [],
   "source": [
    "from sklearn.preprocessing import RobustScaler\n",
    "target_name = 'price'\n",
    "robust_scaler = RobustScaler()\n",
    "X = diamonds.drop('price', axis=1)\n",
    "X = robust_scaler.fit_transform(X)\n",
    "y = diamonds[target_name]\n",
    "X_train, X_test, y_train, y_test = train_test_split(X, y, test_size=0.1, random_state=123)"
   ]
  },
  {
   "cell_type": "markdown",
   "metadata": {},
   "source": [
    "#### Training strategy"
   ]
  },
  {
   "cell_type": "code",
   "execution_count": 4,
   "metadata": {
    "collapsed": true
   },
   "outputs": [],
   "source": [
    "n_epochs = 40\n",
    "batch_size = 50 "
   ]
  },
  {
   "cell_type": "markdown",
   "metadata": {},
   "source": [
    "#### Input pipeline for the DNN\n",
    "Take a look at: https://www.tensorflow.org/programmers_guide/datasets"
   ]
  },
  {
   "cell_type": "code",
   "execution_count": 5,
   "metadata": {
    "collapsed": true
   },
   "outputs": [],
   "source": [
    "X_placeholder = tf.placeholder(X_train.dtype, shape=X_train.shape)\n",
    "y_placeholder = tf.placeholder(y_train.dtype, shape=y_train.shape)\n",
    "\n",
    "dataset = tf.contrib.data.Dataset.from_tensor_slices((X_placeholder, y_placeholder))\n",
    "dataset = dataset.shuffle(buffer_size=10000)\n",
    "dataset = dataset.batch(batch_size)\n",
    "iterator = dataset.make_initializable_iterator()\n",
    "next_element = iterator.get_next()"
   ]
  },
  {
   "cell_type": "markdown",
   "metadata": {},
   "source": [
    "#### Architecture"
   ]
  },
  {
   "cell_type": "code",
   "execution_count": 6,
   "metadata": {
    "collapsed": true
   },
   "outputs": [],
   "source": [
    "n_inputs = X_train.shape[1] #23\n",
    "n_hidden1 = 256\n",
    "n_hidden2 = 128 \n",
    "n_hidden3 = 64\n",
    "n_outputs = 1"
   ]
  },
  {
   "cell_type": "markdown",
   "metadata": {},
   "source": [
    "#### Placeholders for inputs and labels"
   ]
  },
  {
   "cell_type": "code",
   "execution_count": 7,
   "metadata": {
    "collapsed": true
   },
   "outputs": [],
   "source": [
    "X = tf.placeholder(X_train.dtype, shape=[None,n_inputs])\n",
    "y = tf.placeholder(y_train.dtype)"
   ]
  },
  {
   "cell_type": "markdown",
   "metadata": {},
   "source": [
    "#### Building the DNN"
   ]
  },
  {
   "cell_type": "code",
   "execution_count": 8,
   "metadata": {
    "collapsed": true
   },
   "outputs": [],
   "source": [
    "def DNN(X_values):\n",
    "    hidden1 = fully_connected(X_values, n_hidden1)\n",
    "    hidden2 = fully_connected(hidden1, n_hidden2)\n",
    "    hidden3 = fully_connected(hidden2, n_hidden3)\n",
    "    y_pred = fully_connected(hidden3, n_outputs, activation_fn=None)\n",
    "    return tf.squeeze(y_pred)"
   ]
  },
  {
   "cell_type": "markdown",
   "metadata": {},
   "source": [
    "#### Loss function"
   ]
  },
  {
   "cell_type": "code",
   "execution_count": 9,
   "metadata": {
    "collapsed": true
   },
   "outputs": [],
   "source": [
    "y_pred = DNN(X)\n",
    "loss = tf.losses.mean_squared_error(labels=y, predictions=y_pred)"
   ]
  },
  {
   "cell_type": "markdown",
   "metadata": {},
   "source": [
    "#### Optimizer & training operation"
   ]
  },
  {
   "cell_type": "code",
   "execution_count": 10,
   "metadata": {
    "collapsed": true
   },
   "outputs": [],
   "source": [
    "optimizer = tf.train.AdamOptimizer()\n",
    "training_op = optimizer.minimize(loss)"
   ]
  },
  {
   "cell_type": "markdown",
   "metadata": {},
   "source": [
    "#### np arrays to record evaluation metrics"
   ]
  },
  {
   "cell_type": "code",
   "execution_count": 11,
   "metadata": {
    "collapsed": true
   },
   "outputs": [],
   "source": [
    "train_mse = np.zeros(n_epochs)\n",
    "test_mse = np.zeros(n_epochs)"
   ]
  },
  {
   "cell_type": "markdown",
   "metadata": {},
   "source": [
    "#### Running the computational graph"
   ]
  },
  {
   "cell_type": "code",
   "execution_count": 12,
   "metadata": {},
   "outputs": [
    {
     "name": "stdout",
     "output_type": "stream",
     "text": [
      "=============EPOCH 1============\n",
      "Training MSE: 1108550.2\n",
      "Test MSE: 931511.3\n",
      "=============EPOCH 2============\n",
      "Training MSE: 881021.8\n",
      "Test MSE: 778131.9\n",
      "=============EPOCH 3============\n",
      "Training MSE: 702804.2\n",
      "Test MSE: 704648.3\n",
      "=============EPOCH 4============\n",
      "Training MSE: 611540.9\n",
      "Test MSE: 648722.7\n",
      "=============EPOCH 5============\n",
      "Training MSE: 256313.5\n",
      "Test MSE: 622554.6\n",
      "=============EPOCH 6============\n",
      "Training MSE: 100608.6\n",
      "Test MSE: 585122.8\n",
      "=============EPOCH 7============\n",
      "Training MSE: 773358.4\n",
      "Test MSE: 554501.8\n",
      "=============EPOCH 8============\n",
      "Training MSE: 191780.5\n",
      "Test MSE: 522423.2\n",
      "=============EPOCH 9============\n",
      "Training MSE: 856595.5\n",
      "Test MSE: 563310.8\n",
      "=============EPOCH 10============\n",
      "Training MSE: 309464.5\n",
      "Test MSE: 477155.2\n",
      "=============EPOCH 11============\n",
      "Training MSE: 543775.5\n",
      "Test MSE: 449225.3\n",
      "=============EPOCH 12============\n",
      "Training MSE: 193492.2\n",
      "Test MSE: 431795.3\n",
      "=============EPOCH 13============\n",
      "Training MSE: 373994.0\n",
      "Test MSE: 410921.5\n",
      "=============EPOCH 14============\n",
      "Training MSE: 225274.2\n",
      "Test MSE: 369418.7\n",
      "=============EPOCH 15============\n",
      "Training MSE: 592405.4\n",
      "Test MSE: 362381.4\n",
      "=============EPOCH 16============\n",
      "Training MSE: 255663.3\n",
      "Test MSE: 355960.6\n",
      "=============EPOCH 17============\n",
      "Training MSE: 417954.0\n",
      "Test MSE: 352198.5\n",
      "=============EPOCH 18============\n",
      "Training MSE: 337082.1\n",
      "Test MSE: 352286.7\n",
      "=============EPOCH 19============\n",
      "Training MSE: 95978.4\n",
      "Test MSE: 356439.2\n",
      "=============EPOCH 20============\n",
      "Training MSE: 285838.7\n",
      "Test MSE: 342621.8\n",
      "=============EPOCH 21============\n",
      "Training MSE: 442753.2\n",
      "Test MSE: 345900.2\n",
      "=============EPOCH 22============\n",
      "Training MSE: 251773.6\n",
      "Test MSE: 336092.2\n",
      "=============EPOCH 23============\n",
      "Training MSE: 277893.1\n",
      "Test MSE: 328649.6\n",
      "=============EPOCH 24============\n",
      "Training MSE: 246889.6\n",
      "Test MSE: 333666.9\n",
      "=============EPOCH 25============\n",
      "Training MSE: 339514.6\n",
      "Test MSE: 325606.8\n",
      "=============EPOCH 26============\n",
      "Training MSE: 88994.0\n",
      "Test MSE: 327290.8\n",
      "=============EPOCH 27============\n",
      "Training MSE: 684625.6\n",
      "Test MSE: 369962.0\n",
      "=============EPOCH 28============\n",
      "Training MSE: 249729.0\n",
      "Test MSE: 322820.4\n",
      "=============EPOCH 29============\n",
      "Training MSE: 133975.9\n",
      "Test MSE: 319997.7\n",
      "=============EPOCH 30============\n",
      "Training MSE: 341670.3\n",
      "Test MSE: 319737.8\n",
      "=============EPOCH 31============\n",
      "Training MSE: 202358.5\n",
      "Test MSE: 313453.7\n",
      "=============EPOCH 32============\n",
      "Training MSE: 888398.9\n",
      "Test MSE: 363695.1\n",
      "=============EPOCH 33============\n",
      "Training MSE: 331596.2\n",
      "Test MSE: 326987.9\n",
      "=============EPOCH 34============\n",
      "Training MSE: 190857.3\n",
      "Test MSE: 322487.9\n",
      "=============EPOCH 35============\n",
      "Training MSE: 214686.9\n",
      "Test MSE: 328078.7\n",
      "=============EPOCH 36============\n",
      "Training MSE: 151052.2\n",
      "Test MSE: 328686.4\n",
      "=============EPOCH 37============\n",
      "Training MSE: 243469.2\n",
      "Test MSE: 319324.0\n",
      "=============EPOCH 38============\n",
      "Training MSE: 81571.8\n",
      "Test MSE: 314596.3\n",
      "=============EPOCH 39============\n",
      "Training MSE: 278487.6\n",
      "Test MSE: 315318.3\n",
      "=============EPOCH 40============\n",
      "Training MSE: 294473.1\n",
      "Test MSE: 329880.5\n",
      "Done Trainning\n",
      "\n",
      "=====================\n",
      "\n",
      "Using the network to make individual predictions\n",
      "Actual | Predicted\n",
      "=====================\n",
      "     802   |   706.0\n",
      "     935   |   865.0\n",
      "    5826   |  6124.0\n",
      "     935   |  1018.0\n",
      "    2817   |  3144.0\n",
      "     855   |   724.0\n",
      "    2846   |  2808.0\n",
      "     926   |   893.0\n",
      "   15962   | 16339.0\n",
      "    5445   |  5536.0\n",
      "    2550   |  2271.0\n",
      "    6221   |  5743.0\n",
      "     544   |   570.0\n",
      "    1122   |   804.0\n",
      "    1367   |  1421.0\n",
      "    4077   |  3992.0\n",
      "    2144   |  1973.0\n",
      "    2960   |  2735.0\n",
      "    7131   |  7853.0\n",
      "    1221   |  1239.0\n",
      "    4563   |  5521.0\n",
      "    3830   |  3764.0\n",
      "    1137   |  1076.0\n",
      "    1361   |  1386.0\n",
      "    4641   |  4639.0\n",
      "Correlation:  0.996551814653\n"
     ]
    }
   ],
   "source": [
    "with tf.Session() as sess:\n",
    "    tf.global_variables_initializer().run()\n",
    "    for epoch in range(n_epochs):\n",
    "        sess.run(iterator.initializer, feed_dict={X_placeholder: X_train, y_placeholder: y_train})\n",
    "        while True:\n",
    "            try:\n",
    "                batch_data = sess.run(next_element)\n",
    "                X_batch = batch_data[0]\n",
    "                y_batch = batch_data[1]\n",
    "                sess.run(training_op, feed_dict={X: X_batch, y:y_batch})\n",
    "            except tf.errors.OutOfRangeError:\n",
    "                break\n",
    "        print(\"=============EPOCH {}============\".format(epoch+1))\n",
    "        train_mse[epoch] = loss.eval(feed_dict={X:X_batch, y:y_batch})\n",
    "        test_mse[epoch] = loss.eval(feed_dict={X:X_test, y:y_test})\n",
    "        print('Training MSE:', round(train_mse[epoch],1))\n",
    "        print('Test MSE:', round(test_mse[epoch],1))\n",
    "    print(\"Done Trainning\")\n",
    "    \n",
    "    ## Producing individual predictions\n",
    "    print(\"\\n=====================\\n\")\n",
    "    print(\"Using the network to make individual predictions\")\n",
    "    n_pred = 25\n",
    "    y_obs = y_test[:n_pred]\n",
    "    y_predicted = y_pred.eval(feed_dict={X:X_test[:n_pred,]})\n",
    "    print(\"Actual | Predicted\")\n",
    "    print(\"=====================\") \n",
    "    for obs, pred in zip(y_obs, y_predicted):\n",
    "        print(\"{: >8}   |{: >8}\".format(round(obs), round(pred)))\n",
    "    print(\"Correlation: \", np.corrcoef(y_obs, y_predicted)[0,1])"
   ]
  },
  {
   "cell_type": "code",
   "execution_count": 13,
   "metadata": {},
   "outputs": [
    {
     "data": {
      "image/png": "[encoded data removed]",
      "text/plain": [
       "<matplotlib.figure.Figure at 0x1e110161358>"
      ]
     },
     "metadata": {},
     "output_type": "display_data"
    }
   ],
   "source": [
    "fig, ax = plt.subplots(figsize=(8,6))\n",
    "ax.plot(train_mse, label='Train MSE')\n",
    "ax.plot(test_mse, label='Test MSE')\n",
    "ax.legend()\n",
    "ax.grid()"
   ]
  },
  {
   "cell_type": "markdown",
   "metadata": {
    "collapsed": true
   },
   "source": [
    "### Question: Compared with former models, do we get better performance with this DNN model?"
   ]
  },
  {
   "cell_type": "code",
   "execution_count": null,
   "metadata": {
    "collapsed": true
   },
   "outputs": [],
   "source": []
  },
  {
   "cell_type": "code",
   "execution_count": null,
   "metadata": {
    "collapsed": true
   },
   "outputs": [],
   "source": []
  },
  {
   "cell_type": "code",
   "execution_count": null,
   "metadata": {
    "collapsed": true
   },
   "outputs": [],
   "source": []
  }
 ],
 "metadata": {
  "kernelspec": {
   "display_name": "Python 3",
   "language": "python",
   "name": "python3"
  },
  "language_info": {
   "codemirror_mode": {
    "name": "ipython",
    "version": 3
   },
   "file_extension": ".py",
   "mimetype": "text/x-python",
   "name": "python",
   "nbconvert_exporter": "python",
   "pygments_lexer": "ipython3",
   "version": "3.6.1"
  }
 },
 "nbformat": 4,
 "nbformat_minor": 2
}
